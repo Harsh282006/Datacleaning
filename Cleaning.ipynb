{
 "cells": [
  {
   "cell_type": "code",
   "execution_count": 1,
   "id": "098cc24a-b08c-4c00-8f60-a82ebf1b2a88",
   "metadata": {},
   "outputs": [
    {
     "name": "stdout",
     "output_type": "stream",
     "text": [
      "Original Dataset:\n",
      "   CustomerID  Gender  Age  Annual Income (k$)  Spending Score (1-100)\n",
      "0           1    Male   19                  15                      39\n",
      "1           2    Male   21                  15                      81\n",
      "2           3  Female   20                  16                       6\n",
      "3           4  Female   23                  16                      77\n",
      "4           5  Female   31                  17                      40\n",
      "\n",
      "Missing Values:\n",
      "CustomerID                0\n",
      "Gender                    0\n",
      "Age                       0\n",
      "Annual Income (k$)        0\n",
      "Spending Score (1-100)    0\n",
      "dtype: int64\n",
      "\n",
      "Cleaned Dataset:\n",
      "   customerid  gender  age  annual_income_(k$)  spending_score_(1-100)\n",
      "0           1    Male   19                  15                      39\n",
      "1           2    Male   21                  15                      81\n",
      "2           3  Female   20                  16                       6\n",
      "3           4  Female   23                  16                      77\n",
      "4           5  Female   31                  17                      40\n",
      "\n",
      "Summary of Changes:\n",
      "{'Removed Nulls': True, 'Removed Duplicates': True, 'Standardized Column Names': True, 'Fixed Data Types': True}\n"
     ]
    }
   ],
   "source": [
    "import pandas as pd\n",
    "\n",
    "# Load the dataset\n",
    "df = pd.read_csv('Mall_Customers.csv')\n",
    "\n",
    "# Show first few rows\n",
    "print(\"Original Dataset:\")\n",
    "print(df.head())\n",
    "\n",
    "# 1. Check for missing values\n",
    "print(\"\\nMissing Values:\")\n",
    "print(df.isnull().sum())\n",
    "\n",
    "# 2. Remove duplicates\n",
    "df = df.drop_duplicates()\n",
    "\n",
    "# 3. Standardize column names\n",
    "df.columns = df.columns.str.strip().str.lower().str.replace(' ', '_')\n",
    "\n",
    "# 4. Check and convert data types if needed\n",
    "df['annual_income_(k$)'] = pd.to_numeric(df['annual_income_(k$)'], errors='coerce')\n",
    "df['spending_score_(1-100)'] = pd.to_numeric(df['spending_score_(1-100)'], errors='coerce')\n",
    "\n",
    "# 5. Final summary\n",
    "print(\"\\nCleaned Dataset:\")\n",
    "print(df.head())\n",
    "\n",
    "# Save cleaned file\n",
    "df.to_csv(\"Cleaned_Mall_Customers.csv\", index=False)\n",
    "\n",
    "# Summary of changes\n",
    "summary = {\n",
    "    \"Removed Nulls\": True,\n",
    "    \"Removed Duplicates\": True,\n",
    "    \"Standardized Column Names\": True,\n",
    "    \"Fixed Data Types\": True\n",
    "}\n",
    "\n",
    "print(\"\\nSummary of Changes:\")\n",
    "print(summary)"
   ]
  },
  {
   "cell_type": "code",
   "execution_count": null,
   "id": "1e06e4f9-861d-456b-9fea-a7d0b125be65",
   "metadata": {},
   "outputs": [],
   "source": []
  }
 ],
 "metadata": {
  "kernelspec": {
   "display_name": "Python [conda env:base] *",
   "language": "python",
   "name": "conda-base-py"
  },
  "language_info": {
   "codemirror_mode": {
    "name": "ipython",
    "version": 3
   },
   "file_extension": ".py",
   "mimetype": "text/x-python",
   "name": "python",
   "nbconvert_exporter": "python",
   "pygments_lexer": "ipython3",
   "version": "3.12.7"
  }
 },
 "nbformat": 4,
 "nbformat_minor": 5
}
