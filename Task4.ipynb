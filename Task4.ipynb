{
 "cells": [
  {
   "cell_type": "code",
   "execution_count": null,
   "id": "325b08a6-5e99-4f5b-bff8-d71b6fc28508",
   "metadata": {},
   "outputs": [],
   "source": [
    "# Task 4: Dashboard Design in Jupyter Notebook\n",
    "\n",
    "# Import necessary libraries\n",
    "import pandas as pd\n",
    "import plotly.express as px\n",
    "import plotly.graph_objects as go\n",
    "\n",
    "# Load dataset\n",
    "df = pd.read_csv('SampleSuperstore.csv')  # Update this to your actual dataset file\n",
    "\n",
    "# Preview dataset\n",
    "df.head()"
   ]
  },
  {
   "cell_type": "code",
   "execution_count": null,
   "id": "947bf2db-b5d0-455e-b536-b5c46fd3d323",
   "metadata": {},
   "outputs": [],
   "source": [
    "# KPI 1: Total Sales\n",
    "total_sales = df['Sales'].sum()\n",
    "\n",
    "# KPI 2: Total Profit\n",
    "total_profit = df['Profit'].sum()\n",
    "\n",
    "# KPI 3: Monthly Growth\n",
    "df['Order Date'] = pd.to_datetime(df['Order Date'])\n",
    "df['Month'] = df['Order Date'].dt.to_period('M')\n",
    "monthly_sales = df.groupby('Month')['Sales'].sum().reset_index()\n",
    "monthly_sales['Growth'] = monthly_sales['Sales'].pct_change() * 100\n",
    "\n",
    "monthly_sales.tail()"
   ]
  },
  {
   "cell_type": "code",
   "execution_count": null,
   "id": "5f897cff-3ea6-4917-80a0-6c67021ab2d7",
   "metadata": {},
   "outputs": [],
   "source": [
    "fig = px.line(monthly_sales, x='Month', y='Sales', title='Monthly Sales Trend')\n",
    "fig.show()"
   ]
  },
  {
   "cell_type": "code",
   "execution_count": null,
   "id": "c84d37b0-e76f-4884-a985-e818ff3bebfd",
   "metadata": {},
   "outputs": [],
   "source": [
    "# Filter by Category\n",
    "fig = px.bar(df, x='Category', y='Sales', color='Region', title='Sales by Category and Region')\n",
    "fig.show()"
   ]
  },
  {
   "cell_type": "code",
   "execution_count": null,
   "id": "9de65e68-02fd-414f-8566-af5209e5a76e",
   "metadata": {},
   "outputs": [],
   "source": [
    "print(f\"✅ Total Sales: ${total_sales:,.2f}\")\n",
    "print(f\"✅ Total Profit: ${total_profit:,.2f}\")\n",
    "print(f\"📈 Last Month Growth: {monthly_sales['Growth'].iloc[-1]:.2f}%\")"
   ]
  },
  {
   "cell_type": "code",
   "execution_count": null,
   "id": "ef5618ed-89df-4b4a-b84e-375f5e6b51bb",
   "metadata": {},
   "outputs": [],
   "source": [
    "# Sales by Year\n",
    "df['Year'] = df['Order Date'].dt.year\n",
    "fig = px.bar(df.groupby('Year')['Sales'].sum().reset_index(), x='Year', y='Sales', title='Yearly Sales')\n",
    "fig.show()\n",
    "\n",
    "# Sales vs Profit Scatter\n",
    "fig = px.scatter(df, x='Sales', y='Profit', color='Category', title='Sales vs Profit by Category')\n",
    "fig.show()"
   ]
  },
  {
   "cell_type": "code",
   "execution_count": null,
   "id": "3ba346d8-fe39-473a-8b9e-0b70fcf3f5bd",
   "metadata": {},
   "outputs": [],
   "source": [
    "# Sample large dataset for faster load\n",
    "sample_df = df.sample(10000, random_state=42)\n",
    "\n",
    "# Indexing for performance\n",
    "df.set_index('Order Date', inplace=True)"
   ]
  },
  {
   "cell_type": "code",
   "execution_count": null,
   "id": "50988d5b-46f4-49a1-bebf-288ca5c0f776",
   "metadata": {},
   "outputs": [],
   "source": []
  },
  {
   "cell_type": "code",
   "execution_count": null,
   "id": "9447e034-4f03-42fb-aa76-765b012b2085",
   "metadata": {},
   "outputs": [],
   "source": []
  }
 ],
 "metadata": {
  "kernelspec": {
   "display_name": "Python [conda env:base] *",
   "language": "python",
   "name": "conda-base-py"
  },
  "language_info": {
   "codemirror_mode": {
    "name": "ipython",
    "version": 3
   },
   "file_extension": ".py",
   "mimetype": "text/x-python",
   "name": "python",
   "nbconvert_exporter": "python",
   "pygments_lexer": "ipython3",
   "version": "3.12.7"
  }
 },
 "nbformat": 4,
 "nbformat_minor": 5
}
